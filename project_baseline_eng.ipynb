{
 "cells": [
  {
   "cell_type": "markdown",
   "metadata": {
    "colab_type": "text",
    "id": "view-in-github"
   },
   "source": [
    "<a href=\"https://colab.research.google.com/github/shmuhammadd/semantic_relatedness/blob/main/Simple_English_Baseline_v2.ipynb\" target=\"_parent\"><img src=\"https://colab.research.google.com/assets/colab-badge.svg\" alt=\"Open In Colab\"/></a>"
   ]
  },
  {
   "cell_type": "markdown",
   "metadata": {
    "id": "ewwVGDM3IyXY"
   },
   "source": [
    "# Package Imports"
   ]
  },
  {
   "cell_type": "code",
   "execution_count": 1,
   "metadata": {
    "id": "T6myajMlIyXZ"
   },
   "outputs": [],
   "source": [
    "import re\n",
    "import pandas as pd\n",
    "import numpy as np\n",
    "from scipy.stats import spearmanr, pearsonr, linregress\n",
    "import matplotlib.pyplot as plt\n",
    "plt.style.use('ggplot')"
   ]
  },
  {
   "cell_type": "markdown",
   "metadata": {
    "id": "gn_ikaypIyXZ"
   },
   "source": [
    "# Data Import / Format / Export\n",
    "\n",
    "Functions for importing, formatting, and exporting data"
   ]
  },
  {
   "cell_type": "code",
   "execution_count": 2,
   "metadata": {
    "colab": {
     "base_uri": "https://localhost:8080/",
     "height": 206
    },
    "id": "1PhipxbhIyXa",
    "outputId": "1da7308c-a799-4fe0-897e-3e4a23ea15c2"
   },
   "outputs": [],
   "source": [
    "# Load data from csv, format into proper split\n",
    "def load_data(filepath):\n",
    "    data = pd.read_csv(filepath)\n",
    "    data['Split Text'] = data['Text'].apply(lambda x: x.split(\"\\n\"))\n",
    "    data['Pred_Score'] = 0.0\n",
    "    return data"
   ]
  },
  {
   "cell_type": "code",
   "execution_count": 3,
   "metadata": {},
   "outputs": [],
   "source": [
    "# Export data\n",
    "def save_predictions(data, filepath):\n",
    "    data[['PairID', 'Pred_Score']].to_csv(filepath, index=False)"
   ]
  },
  {
   "cell_type": "markdown",
   "metadata": {
    "id": "Irz_4Wm6IyXb"
   },
   "source": [
    "# Baseline model : Dice Score\n",
    "\n"
   ]
  },
  {
   "cell_type": "code",
   "execution_count": 4,
   "metadata": {
    "id": "Jtr56u-BIyXc"
   },
   "outputs": [],
   "source": [
    "def dice_score(s1,s2):\n",
    "  s1 = s1.lower()\n",
    "  s1_split = re.findall(r\"\\w+|[^\\w\\s]\", s1, re.UNICODE)\n",
    "\n",
    "  s2 = s2.lower()\n",
    "  s2_split = re.findall(r\"\\w+|[^\\w\\s]\", s2, re.UNICODE)\n",
    "\n",
    "  dice_coef = len(set(s1_split).intersection(set(s2_split))) / (len(set(s1_split)) + len(set(s2_split)))\n",
    "  return round(dice_coef, 2)"
   ]
  },
  {
   "cell_type": "markdown",
   "metadata": {},
   "source": [
    "# Load data"
   ]
  },
  {
   "cell_type": "code",
   "execution_count": 5,
   "metadata": {},
   "outputs": [
    {
     "data": {
      "text/html": [
       "<div>\n",
       "<style scoped>\n",
       "    .dataframe tbody tr th:only-of-type {\n",
       "        vertical-align: middle;\n",
       "    }\n",
       "\n",
       "    .dataframe tbody tr th {\n",
       "        vertical-align: top;\n",
       "    }\n",
       "\n",
       "    .dataframe thead th {\n",
       "        text-align: right;\n",
       "    }\n",
       "</style>\n",
       "<table border=\"1\" class=\"dataframe\">\n",
       "  <thead>\n",
       "    <tr style=\"text-align: right;\">\n",
       "      <th></th>\n",
       "      <th>PairID</th>\n",
       "      <th>Text</th>\n",
       "      <th>Score</th>\n",
       "      <th>Split Text</th>\n",
       "      <th>Pred_Score</th>\n",
       "    </tr>\n",
       "  </thead>\n",
       "  <tbody>\n",
       "    <tr>\n",
       "      <th>0</th>\n",
       "      <td>ENG-train-0000</td>\n",
       "      <td>It that happens, just pull the plug.\\nif that ...</td>\n",
       "      <td>1.0</td>\n",
       "      <td>[It that happens, just pull the plug., if that...</td>\n",
       "      <td>0.0</td>\n",
       "    </tr>\n",
       "    <tr>\n",
       "      <th>1</th>\n",
       "      <td>ENG-train-0001</td>\n",
       "      <td>A black dog running through water.\\nA black do...</td>\n",
       "      <td>1.0</td>\n",
       "      <td>[A black dog running through water., A black d...</td>\n",
       "      <td>0.0</td>\n",
       "    </tr>\n",
       "    <tr>\n",
       "      <th>2</th>\n",
       "      <td>ENG-train-0002</td>\n",
       "      <td>I've been searchingthe entire abbey for you.\\n...</td>\n",
       "      <td>1.0</td>\n",
       "      <td>[I've been searchingthe entire abbey for you.,...</td>\n",
       "      <td>0.0</td>\n",
       "    </tr>\n",
       "    <tr>\n",
       "      <th>3</th>\n",
       "      <td>ENG-train-0003</td>\n",
       "      <td>If he is good looking and has a good personali...</td>\n",
       "      <td>1.0</td>\n",
       "      <td>[If he is good looking and has a good personal...</td>\n",
       "      <td>0.0</td>\n",
       "    </tr>\n",
       "    <tr>\n",
       "      <th>4</th>\n",
       "      <td>ENG-train-0004</td>\n",
       "      <td>She does not hate you, she is just annoyed wit...</td>\n",
       "      <td>1.0</td>\n",
       "      <td>[She does not hate you, she is just annoyed wi...</td>\n",
       "      <td>0.0</td>\n",
       "    </tr>\n",
       "  </tbody>\n",
       "</table>\n",
       "</div>"
      ],
      "text/plain": [
       "           PairID                                               Text  Score  \\\n",
       "0  ENG-train-0000  It that happens, just pull the plug.\\nif that ...    1.0   \n",
       "1  ENG-train-0001  A black dog running through water.\\nA black do...    1.0   \n",
       "2  ENG-train-0002  I've been searchingthe entire abbey for you.\\n...    1.0   \n",
       "3  ENG-train-0003  If he is good looking and has a good personali...    1.0   \n",
       "4  ENG-train-0004  She does not hate you, she is just annoyed wit...    1.0   \n",
       "\n",
       "                                          Split Text  Pred_Score  \n",
       "0  [It that happens, just pull the plug., if that...         0.0  \n",
       "1  [A black dog running through water., A black d...         0.0  \n",
       "2  [I've been searchingthe entire abbey for you.,...         0.0  \n",
       "3  [If he is good looking and has a good personal...         0.0  \n",
       "4  [She does not hate you, she is just annoyed wi...         0.0  "
      ]
     },
     "execution_count": 5,
     "metadata": {},
     "output_type": "execute_result"
    }
   ],
   "source": [
    "train_data = load_data(\"./Semantic_Relatedness_SemEval2024/Track A/eng/eng_train.csv\")\n",
    "train_data.head()"
   ]
  },
  {
   "cell_type": "code",
   "execution_count": 6,
   "metadata": {},
   "outputs": [
    {
     "data": {
      "text/html": [
       "<div>\n",
       "<style scoped>\n",
       "    .dataframe tbody tr th:only-of-type {\n",
       "        vertical-align: middle;\n",
       "    }\n",
       "\n",
       "    .dataframe tbody tr th {\n",
       "        vertical-align: top;\n",
       "    }\n",
       "\n",
       "    .dataframe thead th {\n",
       "        text-align: right;\n",
       "    }\n",
       "</style>\n",
       "<table border=\"1\" class=\"dataframe\">\n",
       "  <thead>\n",
       "    <tr style=\"text-align: right;\">\n",
       "      <th></th>\n",
       "      <th>PairID</th>\n",
       "      <th>Text</th>\n",
       "      <th>Score</th>\n",
       "      <th>Split Text</th>\n",
       "      <th>Pred_Score</th>\n",
       "    </tr>\n",
       "  </thead>\n",
       "  <tbody>\n",
       "    <tr>\n",
       "      <th>0</th>\n",
       "      <td>ENG-test-0000</td>\n",
       "      <td>Egypt's Brotherhood stands ground after killin...</td>\n",
       "      <td>0.70</td>\n",
       "      <td>[Egypt's Brotherhood stands ground after killi...</td>\n",
       "      <td>0.0</td>\n",
       "    </tr>\n",
       "    <tr>\n",
       "      <th>1</th>\n",
       "      <td>ENG-test-0001</td>\n",
       "      <td>install it for fre and get to know what all u ...</td>\n",
       "      <td>0.71</td>\n",
       "      <td>[install it for fre and get to know what all u...</td>\n",
       "      <td>0.0</td>\n",
       "    </tr>\n",
       "    <tr>\n",
       "      <th>2</th>\n",
       "      <td>ENG-test-0002</td>\n",
       "      <td>Also, it was one of the debut novels that I wa...</td>\n",
       "      <td>0.49</td>\n",
       "      <td>[Also, it was one of the debut novels that I w...</td>\n",
       "      <td>0.0</td>\n",
       "    </tr>\n",
       "    <tr>\n",
       "      <th>3</th>\n",
       "      <td>ENG-test-0003</td>\n",
       "      <td>Therefore, you can use the code BRAIL, BASIL, ...</td>\n",
       "      <td>0.27</td>\n",
       "      <td>[Therefore, you can use the code BRAIL, BASIL,...</td>\n",
       "      <td>0.0</td>\n",
       "    </tr>\n",
       "    <tr>\n",
       "      <th>4</th>\n",
       "      <td>ENG-test-0004</td>\n",
       "      <td>Solid YA novel with a funky take on zombies an...</td>\n",
       "      <td>0.32</td>\n",
       "      <td>[Solid YA novel with a funky take on zombies a...</td>\n",
       "      <td>0.0</td>\n",
       "    </tr>\n",
       "  </tbody>\n",
       "</table>\n",
       "</div>"
      ],
      "text/plain": [
       "          PairID                                               Text  Score  \\\n",
       "0  ENG-test-0000  Egypt's Brotherhood stands ground after killin...   0.70   \n",
       "1  ENG-test-0001  install it for fre and get to know what all u ...   0.71   \n",
       "2  ENG-test-0002  Also, it was one of the debut novels that I wa...   0.49   \n",
       "3  ENG-test-0003  Therefore, you can use the code BRAIL, BASIL, ...   0.27   \n",
       "4  ENG-test-0004  Solid YA novel with a funky take on zombies an...   0.32   \n",
       "\n",
       "                                          Split Text  Pred_Score  \n",
       "0  [Egypt's Brotherhood stands ground after killi...         0.0  \n",
       "1  [install it for fre and get to know what all u...         0.0  \n",
       "2  [Also, it was one of the debut novels that I w...         0.0  \n",
       "3  [Therefore, you can use the code BRAIL, BASIL,...         0.0  \n",
       "4  [Solid YA novel with a funky take on zombies a...         0.0  "
      ]
     },
     "execution_count": 6,
     "metadata": {},
     "output_type": "execute_result"
    }
   ],
   "source": [
    "test_data = load_data(\"./Semantic_Relatedness_SemEval2024/Track A/eng/eng_test_with_labels.csv\")\n",
    "test_data.head()"
   ]
  },
  {
   "cell_type": "markdown",
   "metadata": {},
   "source": [
    "# Evaluate Baseline"
   ]
  },
  {
   "cell_type": "code",
   "execution_count": 7,
   "metadata": {
    "id": "SAMvGhTAIyXc"
   },
   "outputs": [],
   "source": [
    "# Seperate the actual scores\n",
    "true_train_scores = train_data['Score'].values\n",
    "true_test_scores = test_data['Score'].values\n"
   ]
  },
  {
   "cell_type": "code",
   "execution_count": 8,
   "metadata": {},
   "outputs": [
    {
     "data": {
      "text/html": [
       "<div>\n",
       "<style scoped>\n",
       "    .dataframe tbody tr th:only-of-type {\n",
       "        vertical-align: middle;\n",
       "    }\n",
       "\n",
       "    .dataframe tbody tr th {\n",
       "        vertical-align: top;\n",
       "    }\n",
       "\n",
       "    .dataframe thead th {\n",
       "        text-align: right;\n",
       "    }\n",
       "</style>\n",
       "<table border=\"1\" class=\"dataframe\">\n",
       "  <thead>\n",
       "    <tr style=\"text-align: right;\">\n",
       "      <th></th>\n",
       "      <th>PairID</th>\n",
       "      <th>Text</th>\n",
       "      <th>Score</th>\n",
       "      <th>Split Text</th>\n",
       "      <th>Pred_Score</th>\n",
       "    </tr>\n",
       "  </thead>\n",
       "  <tbody>\n",
       "    <tr>\n",
       "      <th>0</th>\n",
       "      <td>ENG-train-0000</td>\n",
       "      <td>It that happens, just pull the plug.\\nif that ...</td>\n",
       "      <td>1.0</td>\n",
       "      <td>[It that happens, just pull the plug., if that...</td>\n",
       "      <td>0.42</td>\n",
       "    </tr>\n",
       "    <tr>\n",
       "      <th>1</th>\n",
       "      <td>ENG-train-0001</td>\n",
       "      <td>A black dog running through water.\\nA black do...</td>\n",
       "      <td>1.0</td>\n",
       "      <td>[A black dog running through water., A black d...</td>\n",
       "      <td>0.44</td>\n",
       "    </tr>\n",
       "    <tr>\n",
       "      <th>2</th>\n",
       "      <td>ENG-train-0002</td>\n",
       "      <td>I've been searchingthe entire abbey for you.\\n...</td>\n",
       "      <td>1.0</td>\n",
       "      <td>[I've been searchingthe entire abbey for you.,...</td>\n",
       "      <td>0.29</td>\n",
       "    </tr>\n",
       "    <tr>\n",
       "      <th>3</th>\n",
       "      <td>ENG-train-0003</td>\n",
       "      <td>If he is good looking and has a good personali...</td>\n",
       "      <td>1.0</td>\n",
       "      <td>[If he is good looking and has a good personal...</td>\n",
       "      <td>0.41</td>\n",
       "    </tr>\n",
       "    <tr>\n",
       "      <th>4</th>\n",
       "      <td>ENG-train-0004</td>\n",
       "      <td>She does not hate you, she is just annoyed wit...</td>\n",
       "      <td>1.0</td>\n",
       "      <td>[She does not hate you, she is just annoyed wi...</td>\n",
       "      <td>0.36</td>\n",
       "    </tr>\n",
       "  </tbody>\n",
       "</table>\n",
       "</div>"
      ],
      "text/plain": [
       "           PairID                                               Text  Score  \\\n",
       "0  ENG-train-0000  It that happens, just pull the plug.\\nif that ...    1.0   \n",
       "1  ENG-train-0001  A black dog running through water.\\nA black do...    1.0   \n",
       "2  ENG-train-0002  I've been searchingthe entire abbey for you.\\n...    1.0   \n",
       "3  ENG-train-0003  If he is good looking and has a good personali...    1.0   \n",
       "4  ENG-train-0004  She does not hate you, she is just annoyed wit...    1.0   \n",
       "\n",
       "                                          Split Text  Pred_Score  \n",
       "0  [It that happens, just pull the plug., if that...        0.42  \n",
       "1  [A black dog running through water., A black d...        0.44  \n",
       "2  [I've been searchingthe entire abbey for you.,...        0.29  \n",
       "3  [If he is good looking and has a good personal...        0.41  \n",
       "4  [She does not hate you, she is just annoyed wi...        0.36  "
      ]
     },
     "execution_count": 8,
     "metadata": {},
     "output_type": "execute_result"
    }
   ],
   "source": [
    "pred_train_scores = []\n",
    "for index,row in train_data.iterrows():\n",
    "  s1,s2 = row[\"Split Text\"]\n",
    "  pred_train_scores.append(dice_score(s1,s2))\n",
    "train_data['Pred_Score'] = pred_train_scores\n",
    "train_data.head()"
   ]
  },
  {
   "cell_type": "code",
   "execution_count": 9,
   "metadata": {},
   "outputs": [
    {
     "data": {
      "text/html": [
       "<div>\n",
       "<style scoped>\n",
       "    .dataframe tbody tr th:only-of-type {\n",
       "        vertical-align: middle;\n",
       "    }\n",
       "\n",
       "    .dataframe tbody tr th {\n",
       "        vertical-align: top;\n",
       "    }\n",
       "\n",
       "    .dataframe thead th {\n",
       "        text-align: right;\n",
       "    }\n",
       "</style>\n",
       "<table border=\"1\" class=\"dataframe\">\n",
       "  <thead>\n",
       "    <tr style=\"text-align: right;\">\n",
       "      <th></th>\n",
       "      <th>PairID</th>\n",
       "      <th>Text</th>\n",
       "      <th>Score</th>\n",
       "      <th>Split Text</th>\n",
       "      <th>Pred_Score</th>\n",
       "    </tr>\n",
       "  </thead>\n",
       "  <tbody>\n",
       "    <tr>\n",
       "      <th>0</th>\n",
       "      <td>ENG-test-0000</td>\n",
       "      <td>Egypt's Brotherhood stands ground after killin...</td>\n",
       "      <td>0.70</td>\n",
       "      <td>[Egypt's Brotherhood stands ground after killi...</td>\n",
       "      <td>0.20</td>\n",
       "    </tr>\n",
       "    <tr>\n",
       "      <th>1</th>\n",
       "      <td>ENG-test-0001</td>\n",
       "      <td>install it for fre and get to know what all u ...</td>\n",
       "      <td>0.71</td>\n",
       "      <td>[install it for fre and get to know what all u...</td>\n",
       "      <td>0.21</td>\n",
       "    </tr>\n",
       "    <tr>\n",
       "      <th>2</th>\n",
       "      <td>ENG-test-0002</td>\n",
       "      <td>Also, it was one of the debut novels that I wa...</td>\n",
       "      <td>0.49</td>\n",
       "      <td>[Also, it was one of the debut novels that I w...</td>\n",
       "      <td>0.13</td>\n",
       "    </tr>\n",
       "    <tr>\n",
       "      <th>3</th>\n",
       "      <td>ENG-test-0003</td>\n",
       "      <td>Therefore, you can use the code BRAIL, BASIL, ...</td>\n",
       "      <td>0.27</td>\n",
       "      <td>[Therefore, you can use the code BRAIL, BASIL,...</td>\n",
       "      <td>0.18</td>\n",
       "    </tr>\n",
       "    <tr>\n",
       "      <th>4</th>\n",
       "      <td>ENG-test-0004</td>\n",
       "      <td>Solid YA novel with a funky take on zombies an...</td>\n",
       "      <td>0.32</td>\n",
       "      <td>[Solid YA novel with a funky take on zombies a...</td>\n",
       "      <td>0.05</td>\n",
       "    </tr>\n",
       "  </tbody>\n",
       "</table>\n",
       "</div>"
      ],
      "text/plain": [
       "          PairID                                               Text  Score  \\\n",
       "0  ENG-test-0000  Egypt's Brotherhood stands ground after killin...   0.70   \n",
       "1  ENG-test-0001  install it for fre and get to know what all u ...   0.71   \n",
       "2  ENG-test-0002  Also, it was one of the debut novels that I wa...   0.49   \n",
       "3  ENG-test-0003  Therefore, you can use the code BRAIL, BASIL, ...   0.27   \n",
       "4  ENG-test-0004  Solid YA novel with a funky take on zombies an...   0.32   \n",
       "\n",
       "                                          Split Text  Pred_Score  \n",
       "0  [Egypt's Brotherhood stands ground after killi...        0.20  \n",
       "1  [install it for fre and get to know what all u...        0.21  \n",
       "2  [Also, it was one of the debut novels that I w...        0.13  \n",
       "3  [Therefore, you can use the code BRAIL, BASIL,...        0.18  \n",
       "4  [Solid YA novel with a funky take on zombies a...        0.05  "
      ]
     },
     "execution_count": 9,
     "metadata": {},
     "output_type": "execute_result"
    }
   ],
   "source": [
    "pred_test_scores = []\n",
    "for index,row in test_data.iterrows():\n",
    "  s1,s2 = row[\"Split Text\"]\n",
    "  pred_test_scores.append(dice_score(s1,s2))\n",
    "test_data['Pred_Score'] = pred_test_scores\n",
    "test_data.head()"
   ]
  },
  {
   "cell_type": "code",
   "execution_count": 10,
   "metadata": {},
   "outputs": [],
   "source": [
    "def calculate_metrics(preds, scores):\n",
    "    pearson_corr, _ = pearsonr(scores, preds)\n",
    "    spearman_corr, _ = spearmanr(scores, preds)\n",
    "    _, _, r, _, _ = linregress(scores, preds)\n",
    "    r2 = r**2\n",
    "    mse = ((scores - preds)**2).mean()\n",
    "    return (pearson_corr, spearman_corr, r2, mse)\n",
    "\n",
    "def display_metrics(metrics, title=\"Metrics:\"):\n",
    "    print(title)\n",
    "    print(\"Pearson Corr:\", metrics[0])\n",
    "    print(\"Spearman Corr:\", metrics[1])\n",
    "    print(\"R^2:\", metrics[2])\n",
    "    print(\"MSE:\", metrics[3])"
   ]
  },
  {
   "cell_type": "code",
   "execution_count": 16,
   "metadata": {
    "colab": {
     "base_uri": "https://localhost:8080/"
    },
    "id": "oK3FAYWJIyXd",
    "outputId": "7e3c926d-f118-429c-ceb1-8f11f2c902a2"
   },
   "outputs": [
    {
     "name": "stdout",
     "output_type": "stream",
     "text": [
      "Metrics:\n",
      "Pearson Corr: 0.5814607386988245\n",
      "Spearman Corr: 0.5650747237186234\n",
      "R^2: 0.3380965906481828\n",
      "MSE: 0.13865496363636365\n",
      "\n",
      "Metrics:\n",
      "Pearson Corr: 0.7417708846670659\n",
      "Spearman Corr: 0.7390091346542196\n",
      "R^2: 0.5502240453397627\n",
      "MSE: 0.10958134615384615\n",
      "\n",
      "Metrics:\n",
      "Pearson Corr: 0.6145593827666949\n",
      "Spearman Corr: 0.6160055842594061\n",
      "R^2: 0.37768323494658085\n",
      "MSE: 0.12932269135802468\n"
     ]
    }
   ],
   "source": [
    "# Pearson correlation of predictions vs actual scores\n",
    "metrics_train = calculate_metrics(true_train_scores, pred_train_scores)\n",
    "metrics_test = calculate_metrics(true_test_scores, pred_test_scores)\n",
    "metrics_full = calculate_metrics(np.array(list(true_train_scores) + list(true_test_scores)), \n",
    "                                 np.array(list(pred_train_scores) + list(pred_test_scores)))\n",
    "display_metrics(metrics_train)\n",
    "print()\n",
    "display_metrics(metrics_test)\n",
    "print()\n",
    "display_metrics(metrics_full)"
   ]
  }
 ],
 "metadata": {
  "colab": {
   "include_colab_link": true,
   "provenance": []
  },
  "kernelspec": {
   "display_name": ".venv",
   "language": "python",
   "name": "python3"
  },
  "language_info": {
   "codemirror_mode": {
    "name": "ipython",
    "version": 3
   },
   "file_extension": ".py",
   "mimetype": "text/x-python",
   "name": "python",
   "nbconvert_exporter": "python",
   "pygments_lexer": "ipython3",
   "version": "3.12.3"
  }
 },
 "nbformat": 4,
 "nbformat_minor": 0
}
