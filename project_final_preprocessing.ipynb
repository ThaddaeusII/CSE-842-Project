{
 "cells": [
  {
   "cell_type": "markdown",
   "metadata": {
    "colab_type": "text",
    "id": "view-in-github"
   },
   "source": [
    "<a href=\"https://colab.research.google.com/github/shmuhammadd/semantic_relatedness/blob/main/Simple_English_Baseline_v2.ipynb\" target=\"_parent\"><img src=\"https://colab.research.google.com/assets/colab-badge.svg\" alt=\"Open In Colab\"/></a>"
   ]
  },
  {
   "cell_type": "markdown",
   "metadata": {
    "id": "ewwVGDM3IyXY"
   },
   "source": [
    "# Package Imports"
   ]
  },
  {
   "cell_type": "code",
   "execution_count": 4,
   "metadata": {
    "id": "T6myajMlIyXZ"
   },
   "outputs": [],
   "source": [
    "import pandas as pd\n",
    "import re\n",
    "from scipy.stats import spearmanr, pearsonr, linregress\n",
    "import torch\n",
    "import torch.nn.functional as F\n",
    "from sklearn.preprocessing import StandardScaler\n",
    "from transformers import AutoTokenizer, AutoModel\n",
    "import Levenshtein\n",
    "import matplotlib.pyplot as plt\n",
    "plt.style.use('ggplot')"
   ]
  },
  {
   "cell_type": "markdown",
   "metadata": {
    "id": "gn_ikaypIyXZ"
   },
   "source": [
    "# Data Import / Format / Export\n",
    "\n",
    "Functions for importing, formatting, and exporting data"
   ]
  },
  {
   "cell_type": "code",
   "execution_count": 5,
   "metadata": {
    "colab": {
     "base_uri": "https://localhost:8080/",
     "height": 206
    },
    "id": "1PhipxbhIyXa",
    "outputId": "1da7308c-a799-4fe0-897e-3e4a23ea15c2"
   },
   "outputs": [],
   "source": [
    "# Load data from csv, format into proper split\n",
    "def load_data(filepath):\n",
    "    data = pd.read_csv(filepath)\n",
    "    data['Split_Text'] = data['Text'].apply(lambda x: x.split(\"\\n\"))\n",
    "    data['Pred_Score'] = 0.0\n",
    "    return data"
   ]
  },
  {
   "cell_type": "markdown",
   "metadata": {},
   "source": [
    "# Preprocessing"
   ]
  },
  {
   "cell_type": "code",
   "execution_count": 6,
   "metadata": {},
   "outputs": [],
   "source": [
    "def jaccard_similarity(s1, s2):\n",
    "    set1, set2 = set(s1), set(s2)\n",
    "    return len(set1.intersection(set2)) / len(set1.union(set2))"
   ]
  },
  {
   "cell_type": "code",
   "execution_count": 7,
   "metadata": {},
   "outputs": [],
   "source": [
    "def word_overlap(s1, s2):\n",
    "    set1, set2 = set(s1), set(s2)\n",
    "    return len(set1.intersection(set2)) / len(set1)"
   ]
  },
  {
   "cell_type": "code",
   "execution_count": 8,
   "metadata": {},
   "outputs": [],
   "source": [
    "def dice_score(s1,s2):\n",
    "  s1 = s1.lower()\n",
    "  s1_split = re.findall(r\"\\w+|[^\\w\\s]\", s1, re.UNICODE)\n",
    "\n",
    "  s2 = s2.lower()\n",
    "  s2_split = re.findall(r\"\\w+|[^\\w\\s]\", s2, re.UNICODE)\n",
    "\n",
    "  dice_coef = len(set(s1_split).intersection(set(s2_split))) / (len(set(s1_split)) + len(set(s2_split)))\n",
    "  return round(dice_coef, 2)"
   ]
  },
  {
   "cell_type": "code",
   "execution_count": 9,
   "metadata": {},
   "outputs": [],
   "source": [
    "# Additional features added to RoBERTa embeddings\n",
    "def compute_custom_metrics(row):\n",
    "    metrics = {}\n",
    "    cosine_sim = F.cosine_similarity(row[\"Embedding1\"].unsqueeze(0), row[\"Embedding2\"].unsqueeze(0))\n",
    "    metrics[\"Cosine_Similarity\"] = cosine_sim.item()\n",
    "\n",
    "    set1 = set(row[\"Sentence1\"].split())\n",
    "    set2 = set(row[\"Sentence2\"].split())\n",
    "    jaccard_sim = len(set1.intersection(set2)) / len(set1.union(set2)) if len(set1.union(set2)) > 0 else 0\n",
    "    metrics[\"Jaccard_Similarity\"] = jaccard_sim\n",
    "\n",
    "    metrics[\"Length_Diff\"] = abs(len(row[\"Sentence1\"].split()) - len(row[\"Sentence2\"].split()))\n",
    "\n",
    "    metrics['Levenshtein_Distance'] = Levenshtein.distance(row['Sentence1'], row['Sentence2'])\n",
    "\n",
    "    word_overlap_score = word_overlap(row[\"Sentence1\"].split(), row[\"Sentence2\"].split())\n",
    "    metrics['Word_Overlap'] = word_overlap_score\n",
    "    \n",
    "    dice = dice_score(row[\"Sentence1\"], row[\"Sentence2\"])\n",
    "    metrics['Dice_Score'] = dice\n",
    "\n",
    "    return metrics"
   ]
  },
  {
   "cell_type": "code",
   "execution_count": 10,
   "metadata": {},
   "outputs": [
    {
     "name": "stderr",
     "output_type": "stream",
     "text": [
      "Some weights of RobertaModel were not initialized from the model checkpoint at roberta-base and are newly initialized: ['roberta.pooler.dense.bias', 'roberta.pooler.dense.weight']\n",
      "You should probably TRAIN this model on a down-stream task to be able to use it for predictions and inference.\n"
     ]
    }
   ],
   "source": [
    "tokenizer = AutoTokenizer.from_pretrained(\"roberta-base\")\n",
    "model = AutoModel.from_pretrained(\"roberta-base\")"
   ]
  },
  {
   "cell_type": "code",
   "execution_count": 11,
   "metadata": {},
   "outputs": [],
   "source": [
    "# Needed batch sizes due to memory issues\n",
    "def get_roberta_embeddings(sentences, batch_size=32):\n",
    "    embeddings_list = []\n",
    "    for i in range(0, len(sentences), batch_size):\n",
    "        batch_sentences = sentences[i:i+batch_size]\n",
    "        inputs = tokenizer(batch_sentences, padding=True, truncation=True, return_tensors=\"pt\")\n",
    "        with torch.no_grad():\n",
    "            outputs = model(**inputs)\n",
    "            embeddings = outputs.last_hidden_state[:, 0, :]\n",
    "            embeddings_list.append(embeddings)\n",
    "    return torch.cat(embeddings_list, dim=0)"
   ]
  },
  {
   "cell_type": "code",
   "execution_count": 12,
   "metadata": {},
   "outputs": [],
   "source": [
    "def preprocess_with_roberta(data, batch_size=32):\n",
    "    # Split into two sentences\n",
    "    data[['Sentence1', 'Sentence2']] = pd.DataFrame(data['Split_Text'].tolist(), index=data.index)\n",
    "    \n",
    "    # Lowercase sentences, strip whitespace\n",
    "    data[\"Sentence1\"] = data[\"Sentence1\"].str.lower().str.strip()\n",
    "    data[\"Sentence2\"] = data[\"Sentence2\"].str.lower().str.strip()\n",
    "\n",
    "    # Generate RoBERTa embeddings in batches (keeping everything as tensors)\n",
    "    embeddings1 = get_roberta_embeddings(data[\"Sentence1\"].tolist(), batch_size)\n",
    "    embeddings2 = get_roberta_embeddings(data[\"Sentence2\"].tolist(), batch_size)\n",
    "    \n",
    "    # Save embeddings for custom metrics\n",
    "    data[\"Embedding1\"] = list(embeddings1)\n",
    "    data[\"Embedding2\"] = list(embeddings2)\n",
    "\n",
    "    # Compute custom metrics for each row\n",
    "    metrics = data.apply(compute_custom_metrics, axis=1, result_type=\"expand\")\n",
    "\n",
    "    # Convert metrics to tensor\n",
    "    metrics_tensor = torch.tensor(metrics.values, dtype=torch.float32)\n",
    "\n",
    "    # Standardize custom metrics\n",
    "    scaler = StandardScaler()\n",
    "    standardized_metrics = scaler.fit_transform(metrics_tensor.numpy())\n",
    "    standardized_metrics_tensor = torch.tensor(standardized_metrics, dtype=torch.float32)\n",
    "\n",
    "    # Combine embeddings and metrics\n",
    "    features = torch.cat([\n",
    "        embeddings1,\n",
    "        embeddings2,\n",
    "        standardized_metrics_tensor\n",
    "    ], dim=1)\n",
    "\n",
    "    # Returned processed features as tensors\n",
    "    return features, data"
   ]
  },
  {
   "cell_type": "markdown",
   "metadata": {
    "id": "Irz_4Wm6IyXb"
   },
   "source": [
    "# Tools"
   ]
  },
  {
   "cell_type": "code",
   "execution_count": 13,
   "metadata": {},
   "outputs": [],
   "source": [
    "def calculate_metrics(preds, scores):\n",
    "    pearson_corr, _ = pearsonr(scores, preds)\n",
    "    spearman_corr, _ = spearmanr(scores, preds)\n",
    "    _, _, r, _, _ = linregress(scores, preds) # probably a better way of doing this, fix later\n",
    "    r2 = r**2\n",
    "    mse = ((scores - preds)**2).mean() # Scikit's mean_squared_error complained about being deprecated, so this is my temp fix\n",
    "    return (pearson_corr, spearman_corr, r2, mse)"
   ]
  },
  {
   "cell_type": "code",
   "execution_count": 14,
   "metadata": {},
   "outputs": [],
   "source": [
    "# Make sure these match the metrics above\n",
    "def display_metrics(metrics, title=\"Metrics:\"):\n",
    "    print(title)\n",
    "    print(\"Pearson Corr:\", metrics[0])\n",
    "    print(\"Spearman Corr:\", metrics[1])\n",
    "    print(\"R^2:\", metrics[2])\n",
    "    print(\"MSE:\", metrics[3])"
   ]
  },
  {
   "cell_type": "markdown",
   "metadata": {},
   "source": [
    "# Load data"
   ]
  },
  {
   "cell_type": "code",
   "execution_count": 15,
   "metadata": {},
   "outputs": [
    {
     "data": {
      "text/html": [
       "<div>\n",
       "<style scoped>\n",
       "    .dataframe tbody tr th:only-of-type {\n",
       "        vertical-align: middle;\n",
       "    }\n",
       "\n",
       "    .dataframe tbody tr th {\n",
       "        vertical-align: top;\n",
       "    }\n",
       "\n",
       "    .dataframe thead th {\n",
       "        text-align: right;\n",
       "    }\n",
       "</style>\n",
       "<table border=\"1\" class=\"dataframe\">\n",
       "  <thead>\n",
       "    <tr style=\"text-align: right;\">\n",
       "      <th></th>\n",
       "      <th>PairID</th>\n",
       "      <th>Text</th>\n",
       "      <th>Score</th>\n",
       "      <th>Split_Text</th>\n",
       "      <th>Pred_Score</th>\n",
       "    </tr>\n",
       "  </thead>\n",
       "  <tbody>\n",
       "    <tr>\n",
       "      <th>0</th>\n",
       "      <td>ENG-train-0000</td>\n",
       "      <td>It that happens, just pull the plug.\\nif that ...</td>\n",
       "      <td>1.0</td>\n",
       "      <td>[It that happens, just pull the plug., if that...</td>\n",
       "      <td>0.0</td>\n",
       "    </tr>\n",
       "    <tr>\n",
       "      <th>1</th>\n",
       "      <td>ENG-train-0001</td>\n",
       "      <td>A black dog running through water.\\nA black do...</td>\n",
       "      <td>1.0</td>\n",
       "      <td>[A black dog running through water., A black d...</td>\n",
       "      <td>0.0</td>\n",
       "    </tr>\n",
       "    <tr>\n",
       "      <th>2</th>\n",
       "      <td>ENG-train-0002</td>\n",
       "      <td>I've been searchingthe entire abbey for you.\\n...</td>\n",
       "      <td>1.0</td>\n",
       "      <td>[I've been searchingthe entire abbey for you.,...</td>\n",
       "      <td>0.0</td>\n",
       "    </tr>\n",
       "    <tr>\n",
       "      <th>3</th>\n",
       "      <td>ENG-train-0003</td>\n",
       "      <td>If he is good looking and has a good personali...</td>\n",
       "      <td>1.0</td>\n",
       "      <td>[If he is good looking and has a good personal...</td>\n",
       "      <td>0.0</td>\n",
       "    </tr>\n",
       "    <tr>\n",
       "      <th>4</th>\n",
       "      <td>ENG-train-0004</td>\n",
       "      <td>She does not hate you, she is just annoyed wit...</td>\n",
       "      <td>1.0</td>\n",
       "      <td>[She does not hate you, she is just annoyed wi...</td>\n",
       "      <td>0.0</td>\n",
       "    </tr>\n",
       "  </tbody>\n",
       "</table>\n",
       "</div>"
      ],
      "text/plain": [
       "           PairID                                               Text  Score  \\\n",
       "0  ENG-train-0000  It that happens, just pull the plug.\\nif that ...    1.0   \n",
       "1  ENG-train-0001  A black dog running through water.\\nA black do...    1.0   \n",
       "2  ENG-train-0002  I've been searchingthe entire abbey for you.\\n...    1.0   \n",
       "3  ENG-train-0003  If he is good looking and has a good personali...    1.0   \n",
       "4  ENG-train-0004  She does not hate you, she is just annoyed wit...    1.0   \n",
       "\n",
       "                                          Split_Text  Pred_Score  \n",
       "0  [It that happens, just pull the plug., if that...         0.0  \n",
       "1  [A black dog running through water., A black d...         0.0  \n",
       "2  [I've been searchingthe entire abbey for you.,...         0.0  \n",
       "3  [If he is good looking and has a good personal...         0.0  \n",
       "4  [She does not hate you, she is just annoyed wi...         0.0  "
      ]
     },
     "execution_count": 15,
     "metadata": {},
     "output_type": "execute_result"
    }
   ],
   "source": [
    "train_data = load_data(\"./Semantic_Relatedness_SemEval2024/Track A/eng/eng_train.csv\")\n",
    "train_data.head()"
   ]
  },
  {
   "cell_type": "code",
   "execution_count": 16,
   "metadata": {},
   "outputs": [
    {
     "data": {
      "text/html": [
       "<div>\n",
       "<style scoped>\n",
       "    .dataframe tbody tr th:only-of-type {\n",
       "        vertical-align: middle;\n",
       "    }\n",
       "\n",
       "    .dataframe tbody tr th {\n",
       "        vertical-align: top;\n",
       "    }\n",
       "\n",
       "    .dataframe thead th {\n",
       "        text-align: right;\n",
       "    }\n",
       "</style>\n",
       "<table border=\"1\" class=\"dataframe\">\n",
       "  <thead>\n",
       "    <tr style=\"text-align: right;\">\n",
       "      <th></th>\n",
       "      <th>PairID</th>\n",
       "      <th>Text</th>\n",
       "      <th>Score</th>\n",
       "      <th>Split_Text</th>\n",
       "      <th>Pred_Score</th>\n",
       "    </tr>\n",
       "  </thead>\n",
       "  <tbody>\n",
       "    <tr>\n",
       "      <th>0</th>\n",
       "      <td>ENG-test-0000</td>\n",
       "      <td>Egypt's Brotherhood stands ground after killin...</td>\n",
       "      <td>0.70</td>\n",
       "      <td>[Egypt's Brotherhood stands ground after killi...</td>\n",
       "      <td>0.0</td>\n",
       "    </tr>\n",
       "    <tr>\n",
       "      <th>1</th>\n",
       "      <td>ENG-test-0001</td>\n",
       "      <td>install it for fre and get to know what all u ...</td>\n",
       "      <td>0.71</td>\n",
       "      <td>[install it for fre and get to know what all u...</td>\n",
       "      <td>0.0</td>\n",
       "    </tr>\n",
       "    <tr>\n",
       "      <th>2</th>\n",
       "      <td>ENG-test-0002</td>\n",
       "      <td>Also, it was one of the debut novels that I wa...</td>\n",
       "      <td>0.49</td>\n",
       "      <td>[Also, it was one of the debut novels that I w...</td>\n",
       "      <td>0.0</td>\n",
       "    </tr>\n",
       "    <tr>\n",
       "      <th>3</th>\n",
       "      <td>ENG-test-0003</td>\n",
       "      <td>Therefore, you can use the code BRAIL, BASIL, ...</td>\n",
       "      <td>0.27</td>\n",
       "      <td>[Therefore, you can use the code BRAIL, BASIL,...</td>\n",
       "      <td>0.0</td>\n",
       "    </tr>\n",
       "    <tr>\n",
       "      <th>4</th>\n",
       "      <td>ENG-test-0004</td>\n",
       "      <td>Solid YA novel with a funky take on zombies an...</td>\n",
       "      <td>0.32</td>\n",
       "      <td>[Solid YA novel with a funky take on zombies a...</td>\n",
       "      <td>0.0</td>\n",
       "    </tr>\n",
       "  </tbody>\n",
       "</table>\n",
       "</div>"
      ],
      "text/plain": [
       "          PairID                                               Text  Score  \\\n",
       "0  ENG-test-0000  Egypt's Brotherhood stands ground after killin...   0.70   \n",
       "1  ENG-test-0001  install it for fre and get to know what all u ...   0.71   \n",
       "2  ENG-test-0002  Also, it was one of the debut novels that I wa...   0.49   \n",
       "3  ENG-test-0003  Therefore, you can use the code BRAIL, BASIL, ...   0.27   \n",
       "4  ENG-test-0004  Solid YA novel with a funky take on zombies an...   0.32   \n",
       "\n",
       "                                          Split_Text  Pred_Score  \n",
       "0  [Egypt's Brotherhood stands ground after killi...         0.0  \n",
       "1  [install it for fre and get to know what all u...         0.0  \n",
       "2  [Also, it was one of the debut novels that I w...         0.0  \n",
       "3  [Therefore, you can use the code BRAIL, BASIL,...         0.0  \n",
       "4  [Solid YA novel with a funky take on zombies a...         0.0  "
      ]
     },
     "execution_count": 16,
     "metadata": {},
     "output_type": "execute_result"
    }
   ],
   "source": [
    "test_data = load_data(\"./Semantic_Relatedness_SemEval2024/Track A/eng/eng_test_with_labels.csv\")\n",
    "test_data.head()"
   ]
  },
  {
   "cell_type": "code",
   "execution_count": 17,
   "metadata": {},
   "outputs": [
    {
     "name": "stdout",
     "output_type": "stream",
     "text": [
      "(5500, 9)\n"
     ]
    },
    {
     "data": {
      "text/html": [
       "<div>\n",
       "<style scoped>\n",
       "    .dataframe tbody tr th:only-of-type {\n",
       "        vertical-align: middle;\n",
       "    }\n",
       "\n",
       "    .dataframe tbody tr th {\n",
       "        vertical-align: top;\n",
       "    }\n",
       "\n",
       "    .dataframe thead th {\n",
       "        text-align: right;\n",
       "    }\n",
       "</style>\n",
       "<table border=\"1\" class=\"dataframe\">\n",
       "  <thead>\n",
       "    <tr style=\"text-align: right;\">\n",
       "      <th></th>\n",
       "      <th>PairID</th>\n",
       "      <th>Text</th>\n",
       "      <th>Score</th>\n",
       "      <th>Split_Text</th>\n",
       "      <th>Pred_Score</th>\n",
       "      <th>Sentence1</th>\n",
       "      <th>Sentence2</th>\n",
       "      <th>Embedding1</th>\n",
       "      <th>Embedding2</th>\n",
       "    </tr>\n",
       "  </thead>\n",
       "  <tbody>\n",
       "    <tr>\n",
       "      <th>0</th>\n",
       "      <td>ENG-train-0000</td>\n",
       "      <td>It that happens, just pull the plug.\\nif that ...</td>\n",
       "      <td>1.0</td>\n",
       "      <td>[It that happens, just pull the plug., if that...</td>\n",
       "      <td>0.0</td>\n",
       "      <td>it that happens, just pull the plug.</td>\n",
       "      <td>if that ever happens, just pull the plug.</td>\n",
       "      <td>[tensor(-0.1094), tensor(0.1345), tensor(-0.04...</td>\n",
       "      <td>[tensor(-0.1166), tensor(0.1211), tensor(-0.04...</td>\n",
       "    </tr>\n",
       "    <tr>\n",
       "      <th>1</th>\n",
       "      <td>ENG-train-0001</td>\n",
       "      <td>A black dog running through water.\\nA black do...</td>\n",
       "      <td>1.0</td>\n",
       "      <td>[A black dog running through water., A black d...</td>\n",
       "      <td>0.0</td>\n",
       "      <td>a black dog running through water.</td>\n",
       "      <td>a black dog is running through some water.</td>\n",
       "      <td>[tensor(-0.1038), tensor(0.0925), tensor(-0.00...</td>\n",
       "      <td>[tensor(-0.0920), tensor(0.0753), tensor(-0.00...</td>\n",
       "    </tr>\n",
       "    <tr>\n",
       "      <th>2</th>\n",
       "      <td>ENG-train-0002</td>\n",
       "      <td>I've been searchingthe entire abbey for you.\\n...</td>\n",
       "      <td>1.0</td>\n",
       "      <td>[I've been searchingthe entire abbey for you.,...</td>\n",
       "      <td>0.0</td>\n",
       "      <td>i've been searchingthe entire abbey for you.</td>\n",
       "      <td>i'm looking for you all over the abbey.</td>\n",
       "      <td>[tensor(-0.1287), tensor(0.0527), tensor(-0.01...</td>\n",
       "      <td>[tensor(-0.1227), tensor(0.0650), tensor(0.013...</td>\n",
       "    </tr>\n",
       "    <tr>\n",
       "      <th>3</th>\n",
       "      <td>ENG-train-0003</td>\n",
       "      <td>If he is good looking and has a good personali...</td>\n",
       "      <td>1.0</td>\n",
       "      <td>[If he is good looking and has a good personal...</td>\n",
       "      <td>0.0</td>\n",
       "      <td>if he is good looking and has a good personali...</td>\n",
       "      <td>if he's good looking, and a good personality, ...</td>\n",
       "      <td>[tensor(-0.0881), tensor(0.0848), tensor(-0.01...</td>\n",
       "      <td>[tensor(-0.1034), tensor(0.0648), tensor(-0.02...</td>\n",
       "    </tr>\n",
       "    <tr>\n",
       "      <th>4</th>\n",
       "      <td>ENG-train-0004</td>\n",
       "      <td>She does not hate you, she is just annoyed wit...</td>\n",
       "      <td>1.0</td>\n",
       "      <td>[She does not hate you, she is just annoyed wi...</td>\n",
       "      <td>0.0</td>\n",
       "      <td>she does not hate you, she is just annoyed wit...</td>\n",
       "      <td>she doesn't hate you, she is just annoyed.</td>\n",
       "      <td>[tensor(-0.0909), tensor(0.1275), tensor(0.007...</td>\n",
       "      <td>[tensor(-0.1069), tensor(0.1247), tensor(0.013...</td>\n",
       "    </tr>\n",
       "  </tbody>\n",
       "</table>\n",
       "</div>"
      ],
      "text/plain": [
       "           PairID                                               Text  Score  \\\n",
       "0  ENG-train-0000  It that happens, just pull the plug.\\nif that ...    1.0   \n",
       "1  ENG-train-0001  A black dog running through water.\\nA black do...    1.0   \n",
       "2  ENG-train-0002  I've been searchingthe entire abbey for you.\\n...    1.0   \n",
       "3  ENG-train-0003  If he is good looking and has a good personali...    1.0   \n",
       "4  ENG-train-0004  She does not hate you, she is just annoyed wit...    1.0   \n",
       "\n",
       "                                          Split_Text  Pred_Score  \\\n",
       "0  [It that happens, just pull the plug., if that...         0.0   \n",
       "1  [A black dog running through water., A black d...         0.0   \n",
       "2  [I've been searchingthe entire abbey for you.,...         0.0   \n",
       "3  [If he is good looking and has a good personal...         0.0   \n",
       "4  [She does not hate you, she is just annoyed wi...         0.0   \n",
       "\n",
       "                                           Sentence1  \\\n",
       "0               it that happens, just pull the plug.   \n",
       "1                 a black dog running through water.   \n",
       "2       i've been searchingthe entire abbey for you.   \n",
       "3  if he is good looking and has a good personali...   \n",
       "4  she does not hate you, she is just annoyed wit...   \n",
       "\n",
       "                                           Sentence2  \\\n",
       "0          if that ever happens, just pull the plug.   \n",
       "1         a black dog is running through some water.   \n",
       "2            i'm looking for you all over the abbey.   \n",
       "3  if he's good looking, and a good personality, ...   \n",
       "4         she doesn't hate you, she is just annoyed.   \n",
       "\n",
       "                                          Embedding1  \\\n",
       "0  [tensor(-0.1094), tensor(0.1345), tensor(-0.04...   \n",
       "1  [tensor(-0.1038), tensor(0.0925), tensor(-0.00...   \n",
       "2  [tensor(-0.1287), tensor(0.0527), tensor(-0.01...   \n",
       "3  [tensor(-0.0881), tensor(0.0848), tensor(-0.01...   \n",
       "4  [tensor(-0.0909), tensor(0.1275), tensor(0.007...   \n",
       "\n",
       "                                          Embedding2  \n",
       "0  [tensor(-0.1166), tensor(0.1211), tensor(-0.04...  \n",
       "1  [tensor(-0.0920), tensor(0.0753), tensor(-0.00...  \n",
       "2  [tensor(-0.1227), tensor(0.0650), tensor(0.013...  \n",
       "3  [tensor(-0.1034), tensor(0.0648), tensor(-0.02...  \n",
       "4  [tensor(-0.1069), tensor(0.1247), tensor(0.013...  "
      ]
     },
     "execution_count": 17,
     "metadata": {},
     "output_type": "execute_result"
    }
   ],
   "source": [
    "train_features, train_data = preprocess_with_roberta(train_data)\n",
    "print(train_data.shape)\n",
    "train_data.head()"
   ]
  },
  {
   "cell_type": "code",
   "execution_count": 18,
   "metadata": {},
   "outputs": [
    {
     "name": "stdout",
     "output_type": "stream",
     "text": [
      "torch.Size([5500, 1542])\n",
      "tensor([[-1.0935e-01,  1.3450e-01, -4.0140e-02,  ..., -1.7812e+00,\n",
      "          3.0215e+00,  2.7462e+00],\n",
      "        [-1.0378e-01,  9.2506e-02, -3.3523e-03,  ..., -1.7041e+00,\n",
      "          3.7620e+00,  2.9718e+00],\n",
      "        [-1.2873e-01,  5.2712e-02, -1.4779e-02,  ..., -7.4082e-01,\n",
      "         -6.8096e-01,  1.2792e+00],\n",
      "        ...,\n",
      "        [-1.2664e-01,  6.4262e-02,  4.8498e-03,  ...,  4.5370e-01,\n",
      "         -8.4551e-01, -6.3912e-01],\n",
      "        [-9.2601e-02,  1.0219e-01,  2.0890e-03,  ..., -5.8669e-01,\n",
      "         -9.0311e-01, -8.6480e-01],\n",
      "        [-9.2274e-02,  1.2332e-01, -5.6928e-03,  ..., -5.4815e-01,\n",
      "         -7.7821e-03,  3.7936e-02]])\n"
     ]
    }
   ],
   "source": [
    "print(train_features.shape)\n",
    "print(train_features)\n",
    "torch.save(train_features, \"train_features.pt\")"
   ]
  },
  {
   "cell_type": "code",
   "execution_count": 19,
   "metadata": {},
   "outputs": [
    {
     "name": "stdout",
     "output_type": "stream",
     "text": [
      "torch.Size([5500])\n",
      "tensor([1., 1., 1.,  ..., 0., 0., 0.])\n"
     ]
    }
   ],
   "source": [
    "train_labels = torch.tensor(train_data['Score'], dtype=torch.float32)\n",
    "print(train_labels.shape)\n",
    "print(train_labels)\n",
    "torch.save(train_labels, \"train_labels.pt\")"
   ]
  },
  {
   "cell_type": "code",
   "execution_count": 20,
   "metadata": {},
   "outputs": [
    {
     "name": "stdout",
     "output_type": "stream",
     "text": [
      "(2600, 9)\n"
     ]
    },
    {
     "data": {
      "text/html": [
       "<div>\n",
       "<style scoped>\n",
       "    .dataframe tbody tr th:only-of-type {\n",
       "        vertical-align: middle;\n",
       "    }\n",
       "\n",
       "    .dataframe tbody tr th {\n",
       "        vertical-align: top;\n",
       "    }\n",
       "\n",
       "    .dataframe thead th {\n",
       "        text-align: right;\n",
       "    }\n",
       "</style>\n",
       "<table border=\"1\" class=\"dataframe\">\n",
       "  <thead>\n",
       "    <tr style=\"text-align: right;\">\n",
       "      <th></th>\n",
       "      <th>PairID</th>\n",
       "      <th>Text</th>\n",
       "      <th>Score</th>\n",
       "      <th>Split_Text</th>\n",
       "      <th>Pred_Score</th>\n",
       "      <th>Sentence1</th>\n",
       "      <th>Sentence2</th>\n",
       "      <th>Embedding1</th>\n",
       "      <th>Embedding2</th>\n",
       "    </tr>\n",
       "  </thead>\n",
       "  <tbody>\n",
       "    <tr>\n",
       "      <th>0</th>\n",
       "      <td>ENG-test-0000</td>\n",
       "      <td>Egypt's Brotherhood stands ground after killin...</td>\n",
       "      <td>0.70</td>\n",
       "      <td>[Egypt's Brotherhood stands ground after killi...</td>\n",
       "      <td>0.0</td>\n",
       "      <td>egypt's brotherhood stands ground after killings</td>\n",
       "      <td>egypt: muslim brotherhood stands behind morsi</td>\n",
       "      <td>[tensor(-0.0477), tensor(0.0616), tensor(0.005...</td>\n",
       "      <td>[tensor(-0.0468), tensor(0.0575), tensor(0.008...</td>\n",
       "    </tr>\n",
       "    <tr>\n",
       "      <th>1</th>\n",
       "      <td>ENG-test-0001</td>\n",
       "      <td>install it for fre and get to know what all u ...</td>\n",
       "      <td>0.71</td>\n",
       "      <td>[install it for fre and get to know what all u...</td>\n",
       "      <td>0.0</td>\n",
       "      <td>install it for fre and get to know what all u ...</td>\n",
       "      <td>install the program, which is free to download...</td>\n",
       "      <td>[tensor(-0.0327), tensor(0.0544), tensor(-0.03...</td>\n",
       "      <td>[tensor(-0.0901), tensor(0.1307), tensor(-0.04...</td>\n",
       "    </tr>\n",
       "    <tr>\n",
       "      <th>2</th>\n",
       "      <td>ENG-test-0002</td>\n",
       "      <td>Also, it was one of the debut novels that I wa...</td>\n",
       "      <td>0.49</td>\n",
       "      <td>[Also, it was one of the debut novels that I w...</td>\n",
       "      <td>0.0</td>\n",
       "      <td>also, it was one of the debut novels that i wa...</td>\n",
       "      <td>pretty much the first thing people mentioned w...</td>\n",
       "      <td>[tensor(-0.1055), tensor(0.0924), tensor(0.001...</td>\n",
       "      <td>[tensor(-0.1187), tensor(0.0733), tensor(-0.01...</td>\n",
       "    </tr>\n",
       "    <tr>\n",
       "      <th>3</th>\n",
       "      <td>ENG-test-0003</td>\n",
       "      <td>Therefore, you can use the code BRAIL, BASIL, ...</td>\n",
       "      <td>0.27</td>\n",
       "      <td>[Therefore, you can use the code BRAIL, BASIL,...</td>\n",
       "      <td>0.0</td>\n",
       "      <td>therefore, you can use the code brail, basil, ...</td>\n",
       "      <td>you can watch the wiggles every day on nick jr.</td>\n",
       "      <td>[tensor(-0.0907), tensor(0.1206), tensor(-0.03...</td>\n",
       "      <td>[tensor(-0.0965), tensor(0.0422), tensor(0.012...</td>\n",
       "    </tr>\n",
       "    <tr>\n",
       "      <th>4</th>\n",
       "      <td>ENG-test-0004</td>\n",
       "      <td>Solid YA novel with a funky take on zombies an...</td>\n",
       "      <td>0.32</td>\n",
       "      <td>[Solid YA novel with a funky take on zombies a...</td>\n",
       "      <td>0.0</td>\n",
       "      <td>solid ya novel with a funky take on zombies an...</td>\n",
       "      <td>my 13-year-old son recommended this book to me...</td>\n",
       "      <td>[tensor(-0.1368), tensor(0.0987), tensor(-0.00...</td>\n",
       "      <td>[tensor(-0.0597), tensor(0.0636), tensor(-0.06...</td>\n",
       "    </tr>\n",
       "  </tbody>\n",
       "</table>\n",
       "</div>"
      ],
      "text/plain": [
       "          PairID                                               Text  Score  \\\n",
       "0  ENG-test-0000  Egypt's Brotherhood stands ground after killin...   0.70   \n",
       "1  ENG-test-0001  install it for fre and get to know what all u ...   0.71   \n",
       "2  ENG-test-0002  Also, it was one of the debut novels that I wa...   0.49   \n",
       "3  ENG-test-0003  Therefore, you can use the code BRAIL, BASIL, ...   0.27   \n",
       "4  ENG-test-0004  Solid YA novel with a funky take on zombies an...   0.32   \n",
       "\n",
       "                                          Split_Text  Pred_Score  \\\n",
       "0  [Egypt's Brotherhood stands ground after killi...         0.0   \n",
       "1  [install it for fre and get to know what all u...         0.0   \n",
       "2  [Also, it was one of the debut novels that I w...         0.0   \n",
       "3  [Therefore, you can use the code BRAIL, BASIL,...         0.0   \n",
       "4  [Solid YA novel with a funky take on zombies a...         0.0   \n",
       "\n",
       "                                           Sentence1  \\\n",
       "0   egypt's brotherhood stands ground after killings   \n",
       "1  install it for fre and get to know what all u ...   \n",
       "2  also, it was one of the debut novels that i wa...   \n",
       "3  therefore, you can use the code brail, basil, ...   \n",
       "4  solid ya novel with a funky take on zombies an...   \n",
       "\n",
       "                                           Sentence2  \\\n",
       "0      egypt: muslim brotherhood stands behind morsi   \n",
       "1  install the program, which is free to download...   \n",
       "2  pretty much the first thing people mentioned w...   \n",
       "3    you can watch the wiggles every day on nick jr.   \n",
       "4  my 13-year-old son recommended this book to me...   \n",
       "\n",
       "                                          Embedding1  \\\n",
       "0  [tensor(-0.0477), tensor(0.0616), tensor(0.005...   \n",
       "1  [tensor(-0.0327), tensor(0.0544), tensor(-0.03...   \n",
       "2  [tensor(-0.1055), tensor(0.0924), tensor(0.001...   \n",
       "3  [tensor(-0.0907), tensor(0.1206), tensor(-0.03...   \n",
       "4  [tensor(-0.1368), tensor(0.0987), tensor(-0.00...   \n",
       "\n",
       "                                          Embedding2  \n",
       "0  [tensor(-0.0468), tensor(0.0575), tensor(0.008...  \n",
       "1  [tensor(-0.0901), tensor(0.1307), tensor(-0.04...  \n",
       "2  [tensor(-0.1187), tensor(0.0733), tensor(-0.01...  \n",
       "3  [tensor(-0.0965), tensor(0.0422), tensor(0.012...  \n",
       "4  [tensor(-0.0597), tensor(0.0636), tensor(-0.06...  "
      ]
     },
     "execution_count": 20,
     "metadata": {},
     "output_type": "execute_result"
    }
   ],
   "source": [
    "test_features, test_data = preprocess_with_roberta(test_data)\n",
    "print(test_data.shape)\n",
    "test_data.head()"
   ]
  },
  {
   "cell_type": "code",
   "execution_count": 21,
   "metadata": {},
   "outputs": [
    {
     "name": "stdout",
     "output_type": "stream",
     "text": [
      "torch.Size([2600, 1542])\n",
      "tensor([[-4.7668e-02,  6.1642e-02,  5.0457e-03,  ..., -8.5190e-01,\n",
      "         -1.4553e-01, -5.6737e-02],\n",
      "        [-3.2685e-02,  5.4365e-02, -3.8078e-02,  ...,  4.3447e-01,\n",
      "          3.7257e-01,  3.4154e-02],\n",
      "        [-1.0550e-01,  9.2436e-02,  1.2523e-03,  ...,  6.6836e-01,\n",
      "         -9.1528e-01, -6.9298e-01],\n",
      "        ...,\n",
      "        [-1.4587e-01,  1.0338e-01,  1.2481e-02,  ..., -6.1801e-01,\n",
      "         -1.4926e+00, -1.1474e+00],\n",
      "        [-1.1664e-01,  8.5891e-02,  1.1200e-02,  ..., -1.1126e-01,\n",
      "         -1.4926e+00, -1.5110e+00],\n",
      "        [-1.0706e-01,  9.1530e-02,  1.7318e-03,  ...,  8.6326e-01,\n",
      "         -7.7944e-01, -6.9298e-01]])\n"
     ]
    }
   ],
   "source": [
    "print(test_features.shape)\n",
    "print(test_features)\n",
    "torch.save(test_features, \"test_features.pt\")"
   ]
  },
  {
   "cell_type": "code",
   "execution_count": 22,
   "metadata": {},
   "outputs": [
    {
     "name": "stdout",
     "output_type": "stream",
     "text": [
      "torch.Size([2600])\n",
      "tensor([0.7000, 0.7100, 0.4900,  ..., 0.4500, 0.4500, 0.2200])\n"
     ]
    }
   ],
   "source": [
    "test_labels = torch.tensor(test_data['Score'], dtype=torch.float32)\n",
    "print(test_labels.shape)\n",
    "print(test_labels)\n",
    "torch.save(test_labels, \"test_labels.pt\")"
   ]
  }
 ],
 "metadata": {
  "colab": {
   "include_colab_link": true,
   "provenance": []
  },
  "kernelspec": {
   "display_name": ".venv",
   "language": "python",
   "name": "python3"
  },
  "language_info": {
   "codemirror_mode": {
    "name": "ipython",
    "version": 3
   },
   "file_extension": ".py",
   "mimetype": "text/x-python",
   "name": "python",
   "nbconvert_exporter": "python",
   "pygments_lexer": "ipython3",
   "version": "3.12.3"
  }
 },
 "nbformat": 4,
 "nbformat_minor": 1
}
